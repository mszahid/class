{
 "cells": [
  {
   "cell_type": "markdown",
   "id": "d5dd096a",
   "metadata": {},
   "source": [
    "1. Take values of the length & breadth of a rectangle from user input and check if it is square or not."
   ]
  },
  {
   "cell_type": "code",
   "execution_count": 1,
   "id": "5a8befee",
   "metadata": {},
   "outputs": [
    {
     "name": "stdout",
     "output_type": "stream",
     "text": [
      "Enter the length: 5\n",
      "Enter the breadth: 5\n",
      "It is a square.\n"
     ]
    }
   ],
   "source": [
    "length = float(input(\"Enter the length: \"))\n",
    "breadth = float(input(\"Enter the breadth: \"))\n",
    "\n",
    "if length == breadth:\n",
    "    print(\"It is a square.\")\n",
    "else:\n",
    "    print(\"It is not a square.\")"
   ]
  },
  {
   "cell_type": "markdown",
   "id": "5c8795db",
   "metadata": {},
   "source": [
    "2. Take three integer values from the user and print the greatest among them."
   ]
  },
  {
   "cell_type": "code",
   "execution_count": 2,
   "id": "c02f7528",
   "metadata": {},
   "outputs": [
    {
     "name": "stdout",
     "output_type": "stream",
     "text": [
      "Enter the first number: 1\n",
      "Enter the second number: 3\n",
      "Enter the third number: 5\n",
      "The greatest number among 1, 3, and 5 is: 5\n"
     ]
    }
   ],
   "source": [
    "first_num = int(input(\"Enter the first number: \"))\n",
    "second_num = int(input(\"Enter the second number: \"))\n",
    "third_num = int(input(\"Enter the third number: \"))\n",
    "\n",
    "greatest = max(first_num, second_num, third_num)\n",
    "\n",
    "print(\"The greatest number among {}, {}, and {} is: {}\".format(first_num, second_num, third_num, greatest))"
   ]
  },
  {
   "cell_type": "markdown",
   "id": "952d4d54",
   "metadata": {},
   "source": [
    "3. A student will not be allowed to sit in an exam if his/her attendance is less than 75%."
   ]
  },
  {
   "cell_type": "code",
   "execution_count": 3,
   "id": "32281988",
   "metadata": {},
   "outputs": [
    {
     "name": "stdout",
     "output_type": "stream",
     "text": [
      "Enter the number of classes held: 24\n",
      "Enter the number of classes attended: 1\n",
      "The student is not allowed to sit in the exam.\n"
     ]
    }
   ],
   "source": [
    "num_classes_held = int(input(\"Enter the number of classes held: \"))\n",
    "num_classes_attended = int(input(\"Enter the number of classes attended: \"))\n",
    "\n",
    "percentage_attendance = (num_classes_attended / num_classes_held) * 100\n",
    "\n",
    "if percentage_attendance >= 75:\n",
    "  print(\"The student is allowed to sit in the exam.\")\n",
    "else:\n",
    "  print(\"The student is not allowed to sit in the exam.\")"
   ]
  },
  {
   "cell_type": "markdown",
   "id": "9c9ffab0",
   "metadata": {},
   "source": [
    "4. A school has the following rules for the grading system:\n",
    "Below 25 – F, 25 to 44 – E, 45 to 49 – D, 50 to 59 – C, 60 to 79 – B, 80 to 89 - A, Above 90 - A+\n",
    "Now, Ask the user to enter marks and print the corresponding grade."
   ]
  },
  {
   "cell_type": "code",
   "execution_count": 4,
   "id": "3ac9d182",
   "metadata": {},
   "outputs": [
    {
     "name": "stdout",
     "output_type": "stream",
     "text": [
      "Enter your marks: 10\n",
      "Your grade is F.\n"
     ]
    }
   ],
   "source": [
    "marks = int(input(\"Enter your marks: \"))\n",
    "\n",
    "\n",
    "if marks < 25:\n",
    "  print(\"Your grade is F.\")\n",
    "elif marks >= 25 and marks <= 44:\n",
    "  print(\"Your grade is E.\")\n",
    "elif marks >= 45 and marks <= 49:\n",
    "  print(\"Your grade is D.\")\n",
    "elif marks >= 50 and marks <= 59:\n",
    "  print(\"Your grade is C.\")\n",
    "elif marks >= 60 and marks <= 79:\n",
    "  print(\"Your grade is B.\")\n",
    "elif marks >= 80 and marks <= 89:\n",
    "  print(\"Your grade is A.\")\n",
    "else:\n",
    "  print(\"Your grade is A+.\")"
   ]
  },
  {
   "cell_type": "markdown",
   "id": "a649d40a",
   "metadata": {},
   "source": [
    "5. Print the following pattern using for and while loop.\n",
    "```\n",
    "1 2 3 4 5 6 7\n",
    "1 2 3 4 5 6\n",
    "1 2 3 4 5\n",
    "1 2 3 4\n",
    "```\n"
   ]
  },
  {
   "cell_type": "markdown",
   "id": "7278afa3",
   "metadata": {},
   "source": [
    "<i>5 (A). Using while loop</i>"
   ]
  },
  {
   "cell_type": "code",
   "execution_count": 5,
   "id": "287de3d3",
   "metadata": {},
   "outputs": [
    {
     "name": "stdout",
     "output_type": "stream",
     "text": [
      "1 2 3 4 5 6 7 \n",
      "1 2 3 4 5 6 \n",
      "1 2 3 4 5 \n",
      "1 2 3 4 \n"
     ]
    }
   ],
   "source": [
    "i = 8\n",
    "while i > 4:\n",
    "    j = 1\n",
    "    while j < i:\n",
    "        print(j, end=\" \")\n",
    "        j += 1\n",
    "    print()\n",
    "    i -= 1"
   ]
  },
  {
   "cell_type": "markdown",
   "id": "44b54822",
   "metadata": {},
   "source": [
    "<i>5 (B). Using For loop</i>"
   ]
  },
  {
   "cell_type": "code",
   "execution_count": 6,
   "id": "d61d2f85",
   "metadata": {},
   "outputs": [
    {
     "name": "stdout",
     "output_type": "stream",
     "text": [
      "1 2 3 4 5 6 7 \n",
      "1 2 3 4 5 6 \n",
      "1 2 3 4 5 \n",
      "1 2 3 4 \n"
     ]
    }
   ],
   "source": [
    "for i in range(8, 4, -1):\n",
    "    for j in range(1, i):\n",
    "        print(j, end=\" \")\n",
    "    print()"
   ]
  },
  {
   "cell_type": "markdown",
   "id": "9321b7c3",
   "metadata": {},
   "source": [
    "6. Display numbers from -100 to -10 using for loop."
   ]
  },
  {
   "cell_type": "code",
   "execution_count": 7,
   "id": "37327e68",
   "metadata": {},
   "outputs": [
    {
     "name": "stdout",
     "output_type": "stream",
     "text": [
      "-100 -99 -98 -97 -96 -95 -94 -93 -92 -91 -90 -89 -88 -87 -86 -85 -84 -83 -82 -81 -80 -79 -78 -77 -76 -75 -74 -73 -72 -71 -70 -69 -68 -67 -66 -65 -64 -63 -62 -61 -60 -59 -58 -57 -56 -55 -54 -53 -52 -51 -50 -49 -48 -47 -46 -45 -44 -43 -42 -41 -40 -39 -38 -37 -36 -35 -34 -33 -32 -31 -30 -29 -28 -27 -26 -25 -24 -23 -22 -21 -20 -19 -18 -17 -16 -15 -14 -13 -12 -11 -10 "
     ]
    }
   ],
   "source": [
    "for num in range(-100, -9):\n",
    "    print(num, end=\" \")"
   ]
  },
  {
   "cell_type": "markdown",
   "id": "0bcc29c6",
   "metadata": {},
   "source": [
    "7. Write a program to sum all prime numbers within a range of 10 to 1000."
   ]
  },
  {
   "cell_type": "code",
   "execution_count": 8,
   "id": "eb6940a1",
   "metadata": {},
   "outputs": [
    {
     "name": "stdout",
     "output_type": "stream",
     "text": [
      "The sum of prime numbers from 10 to 1000 is 76110\n"
     ]
    }
   ],
   "source": [
    "sum_of_prime_numbers = 0\n",
    "\n",
    "for number in range(10, 1001):\n",
    "\n",
    "\n",
    "  is_prime = True\n",
    "  for i in range(2, int(number ** 0.5) + 1):\n",
    "    if number % i == 0:\n",
    "      is_prime = False\n",
    "      break\n",
    "\n",
    "        \n",
    "  if is_prime:\n",
    "    sum_of_prime_numbers += number\n",
    "\n",
    "\n",
    "print(\"The sum of prime numbers from 10 to 1000 is\", sum_of_prime_numbers)"
   ]
  },
  {
   "cell_type": "markdown",
   "id": "c68c8d74",
   "metadata": {},
   "source": [
    "8. Find the factorial of an n! (Hint, n=7: 7*6*5*4*3*2*1)."
   ]
  },
  {
   "cell_type": "code",
   "execution_count": 9,
   "id": "dca723a7",
   "metadata": {},
   "outputs": [
    {
     "name": "stdout",
     "output_type": "stream",
     "text": [
      "Enter a number: 7\n",
      "The factorial of 7 is 5040\n"
     ]
    }
   ],
   "source": [
    "def factorial(n):\n",
    "    if n == 0:\n",
    "        return 1\n",
    "    else:\n",
    "        return n * factorial(n - 1)\n",
    "\n",
    "\n",
    "n = int(input(\"Enter a number: \"))\n",
    "factorial_of_n = factorial(n)\n",
    "\n",
    "print(\"The factorial of\", n, \"is\", factorial_of_n)"
   ]
  },
  {
   "cell_type": "markdown",
   "id": "7d97f1cc",
   "metadata": {},
   "source": [
    "9. Reverse a given integer number 27956240710."
   ]
  },
  {
   "cell_type": "code",
   "execution_count": 10,
   "id": "97d3d8b9",
   "metadata": {},
   "outputs": [
    {
     "name": "stdout",
     "output_type": "stream",
     "text": [
      "The reversed number is: 1704265972\n"
     ]
    }
   ],
   "source": [
    "num=27956240710\n",
    "\n",
    "reverse_num= int(str(num)[::-1])\n",
    "print('The reversed number is:', reverse_num)"
   ]
  },
  {
   "cell_type": "markdown",
   "id": "4e5d9985",
   "metadata": {},
   "source": [
    "10. Print the following pattern using for and while loop.\n",
    "```\n",
    "# # #\n",
    "# # # #\n",
    "# # #\n",
    "# #\n",
    "```"
   ]
  },
  {
   "cell_type": "markdown",
   "id": "a750e446",
   "metadata": {},
   "source": [
    "<i>10 (A). Using while loop</i>"
   ]
  },
  {
   "cell_type": "code",
   "execution_count": 11,
   "id": "bbccefc4",
   "metadata": {},
   "outputs": [
    {
     "name": "stdout",
     "output_type": "stream",
     "text": [
      "# # # \n",
      "# # # # \n",
      "# # # \n",
      "# # \n"
     ]
    }
   ],
   "source": [
    "i = 3\n",
    "while i <= 4:\n",
    "    print(\"# \" * i)\n",
    "    i += 1\n",
    "j = 4\n",
    "while j >= 3:\n",
    "    j -= 1\n",
    "    print(\"# \" * j)"
   ]
  },
  {
   "cell_type": "markdown",
   "id": "75c6a8f6",
   "metadata": {},
   "source": [
    "<i>10 (B). Using for loop</i>"
   ]
  },
  {
   "cell_type": "code",
   "execution_count": 12,
   "id": "3e23cda0",
   "metadata": {},
   "outputs": [
    {
     "name": "stdout",
     "output_type": "stream",
     "text": [
      "# # # \n",
      "# # # # \n",
      "# # # \n",
      "# # \n"
     ]
    }
   ],
   "source": [
    "for i in range(3, 5, 1):\n",
    "    print(\"# \" * i)\n",
    "for i in range(3, 1, -1):\n",
    "    print(\"# \" * i)"
   ]
  },
  {
   "cell_type": "markdown",
   "id": "0a539edb",
   "metadata": {},
   "source": [
    "11. Display the Fibonacci series of 15 elements using the for and while loop."
   ]
  },
  {
   "cell_type": "markdown",
   "id": "0468d0fe",
   "metadata": {},
   "source": [
    "<i>11 (A). Using while loop</i>"
   ]
  },
  {
   "cell_type": "code",
   "execution_count": 13,
   "id": "d4496178",
   "metadata": {},
   "outputs": [
    {
     "name": "stdout",
     "output_type": "stream",
     "text": [
      "0 1 1 2 3 5 8 13 21 34 55 89 144 233 377 "
     ]
    }
   ],
   "source": [
    "m, n = 0, 1\n",
    "count = 0\n",
    "\n",
    "while count < 15:\n",
    "    print(m, end=\" \")\n",
    "    \n",
    "    m, n = n, m + n\n",
    "    count += 1"
   ]
  },
  {
   "cell_type": "markdown",
   "id": "902bb131",
   "metadata": {},
   "source": [
    "<i>11 (B). Using for loop</i>"
   ]
  },
  {
   "cell_type": "code",
   "execution_count": 14,
   "id": "c5be8235",
   "metadata": {},
   "outputs": [
    {
     "name": "stdout",
     "output_type": "stream",
     "text": [
      "0 1 1 2 3 5 8 13 21 34 55 89 144 233 377 "
     ]
    }
   ],
   "source": [
    "m, n = 0, 1\n",
    "\n",
    "for _ in range(15):\n",
    "    print(m, end=\" \")\n",
    "\n",
    "    m, n = n, m + n"
   ]
  },
  {
   "cell_type": "markdown",
   "id": "5bf2655c",
   "metadata": {},
   "source": [
    "12. Remove 2 and add 3 to the list and replace True with False.\n",
    "```\n",
    "Li = [1,3,5, [2,3], True]\n",
    "Output = [1,3,5, [3,3], False]\n",
    "```"
   ]
  },
  {
   "cell_type": "code",
   "execution_count": 15,
   "id": "d00a6a6c",
   "metadata": {},
   "outputs": [
    {
     "name": "stdout",
     "output_type": "stream",
     "text": [
      "The new list is: [1, 3, 5, [3, 3], False]\n"
     ]
    }
   ],
   "source": [
    "Li = [1, 3, 5, [2, 3], True]\n",
    "\n",
    "Li[3][0] = 3\n",
    "\n",
    "Li[-1] = False\n",
    "\n",
    "print(\"The new list is:\", Li)"
   ]
  },
  {
   "cell_type": "markdown",
   "id": "1aca34bc",
   "metadata": {},
   "source": [
    "13. Find the intersection (common) of two sets.\n",
    "```\n",
    "S1 = {1,4,6,8}\n",
    "S2 = {True, 1,2,10}\n",
    "```"
   ]
  },
  {
   "cell_type": "code",
   "execution_count": 16,
   "id": "b4e3cbce",
   "metadata": {},
   "outputs": [
    {
     "name": "stdout",
     "output_type": "stream",
     "text": [
      "The intersection of S1 and S2 is: {True}\n"
     ]
    }
   ],
   "source": [
    "S1 = {1, 4, 6, 8}\n",
    "S2 = {True, 1, 2, 10}\n",
    "\n",
    "intersection = S1 & S2 # or S1.intersection(S2)\n",
    "\n",
    "print(\"The intersection of S1 and S2 is:\", intersection)"
   ]
  },
  {
   "cell_type": "markdown",
   "id": "e2dd2ed9",
   "metadata": {},
   "source": [
    "14. Input a list from the user then Remove duplicates from a list and create a set and find the max\n",
    "number. User_input = [1,9,3,4,5,200,54]"
   ]
  },
  {
   "cell_type": "code",
   "execution_count": 17,
   "id": "4eb2ca1f",
   "metadata": {},
   "outputs": [
    {
     "name": "stdout",
     "output_type": "stream",
     "text": [
      "Enter a list of numbers (separated by spaces): 1 9 3 4 5 200 54 1 9 3 4 5\n",
      "The Unique list is: [1, 3, 4, 5, 200, 9, 54]\n",
      "The Max number is: 200\n",
      "The duplicate elements list are: {1, 3, 4, 5, 9}\n"
     ]
    }
   ],
   "source": [
    "user_input = input(\"Enter a list of numbers (separated by spaces): \")\n",
    "\n",
    "user_list = list(map(int, user_input.split()))\n",
    "\n",
    "unique_list = list(set(user_list))\n",
    "\n",
    "max_number = max(unique_list)\n",
    "\n",
    "duplicate_elements = [element for element in user_list if user_list.count(element) > 1]\n",
    "\n",
    "print(\"The Unique list is:\", unique_list)\n",
    "print(\"The Max number is:\", max_number)\n",
    "print(\"The duplicate elements list are:\", set(duplicate_elements))"
   ]
  },
  {
   "cell_type": "markdown",
   "id": "2a42f40f",
   "metadata": {},
   "source": [
    "15. Rename the key of a dictionary.\n",
    "```\n",
    "Dict = { \"name\": \"Shakil\", \"age\":27, \"city\": “Berlin”, \"country\": \"Germany\" }\n",
    "Write a program to rename a key ‘country’ to a ‘region’ in the following dictionary.\n",
    "```"
   ]
  },
  {
   "cell_type": "code",
   "execution_count": 18,
   "id": "a122707c",
   "metadata": {},
   "outputs": [
    {
     "name": "stdout",
     "output_type": "stream",
     "text": [
      "The Modified dictionary is: {'name': 'Shakil', 'age': 27, 'city': 'Berlin', 'region': 'Germany'}\n"
     ]
    }
   ],
   "source": [
    "Dict = { \"name\": \"Shakil\", \"age\":27, \"city\": \"Berlin\", \"country\": \"Germany\" }\n",
    "\n",
    "Dict['region'] = Dict.pop('country')\n",
    "\n",
    "print(\"The Modified dictionary is:\", Dict)"
   ]
  },
  {
   "cell_type": "markdown",
   "id": "1c356a8d",
   "metadata": {},
   "source": [
    "16. Creating a data frame using the list.\n",
    "```\n",
    "num = [10,100,300] (column name is number)\n",
    "```"
   ]
  },
  {
   "cell_type": "code",
   "execution_count": 19,
   "id": "f84fac2d",
   "metadata": {},
   "outputs": [
    {
     "name": "stdout",
     "output_type": "stream",
     "text": [
      "   number\n",
      "0      10\n",
      "1     100\n",
      "2     300\n"
     ]
    }
   ],
   "source": [
    "import pandas as pd\n",
    "\n",
    "num = [10, 100, 300]\n",
    "\n",
    "df = pd.DataFrame({'number': num})\n",
    "\n",
    "print(df)"
   ]
  },
  {
   "cell_type": "markdown",
   "id": "e25e904e",
   "metadata": {},
   "source": [
    "17. Change the value of a key in a given dictionary.\n",
    "```\n",
    "Write a Python program to change ‘age’ to 28 in the following dictionary.\n",
    "Dict = { \"name\": \"Shakil\", \"age\":27, \"city\": “Berlin”, \"country\": \"Germany\" }\n",
    "```"
   ]
  },
  {
   "cell_type": "code",
   "execution_count": 20,
   "id": "ab2d5736",
   "metadata": {},
   "outputs": [
    {
     "name": "stdout",
     "output_type": "stream",
     "text": [
      "{'name': 'Shakil', 'age': 28, 'city': 'Berlin', 'country': 'Germany'}\n"
     ]
    }
   ],
   "source": [
    "Dict = {\"name\": \"Shakil\", \"age\": 27, \"city\": \"Berlin\", \"country\": \"Germany\"}\n",
    "\n",
    "Dict['age'] = 28\n",
    "\n",
    "print(Dict)"
   ]
  },
  {
   "cell_type": "code",
   "execution_count": null,
   "id": "baffb02d",
   "metadata": {},
   "outputs": [],
   "source": []
  }
 ],
 "metadata": {
  "kernelspec": {
   "display_name": "Python 3 (ipykernel)",
   "language": "python",
   "name": "python3"
  },
  "language_info": {
   "codemirror_mode": {
    "name": "ipython",
    "version": 3
   },
   "file_extension": ".py",
   "mimetype": "text/x-python",
   "name": "python",
   "nbconvert_exporter": "python",
   "pygments_lexer": "ipython3",
   "version": "3.9.13"
  }
 },
 "nbformat": 4,
 "nbformat_minor": 5
}
