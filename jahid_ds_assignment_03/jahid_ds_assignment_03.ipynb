{
 "cells": [
  {
   "cell_type": "markdown",
   "id": "3b0993ce",
   "metadata": {},
   "source": [
    "To ignore warnings in Jupyter Notebook, use the warnings module in Python. "
   ]
  },
  {
   "cell_type": "code",
   "execution_count": 1,
   "id": "c4b0fa13",
   "metadata": {},
   "outputs": [],
   "source": [
    "import warnings\n",
    "warnings.filterwarnings(\"ignore\")"
   ]
  },
  {
   "cell_type": "code",
   "execution_count": 2,
   "id": "8bcaff6c",
   "metadata": {},
   "outputs": [],
   "source": [
    "import pandas as pd # import pandas for data analysis and manipulation\n",
    "import numpy as np # import numpy for array operations & numerical processing\n",
    "import matplotlib.pyplot as plt # import matplotlib for data visualization and plotting"
   ]
  },
  {
   "cell_type": "code",
   "execution_count": 3,
   "id": "859da319",
   "metadata": {},
   "outputs": [],
   "source": [
    "df = pd.read_csv('Height-Weight-Data.csv') # load the dataset"
   ]
  },
  {
   "cell_type": "code",
   "execution_count": 4,
   "id": "49072a75",
   "metadata": {},
   "outputs": [
    {
     "data": {
      "text/html": [
       "<div>\n",
       "<style scoped>\n",
       "    .dataframe tbody tr th:only-of-type {\n",
       "        vertical-align: middle;\n",
       "    }\n",
       "\n",
       "    .dataframe tbody tr th {\n",
       "        vertical-align: top;\n",
       "    }\n",
       "\n",
       "    .dataframe thead th {\n",
       "        text-align: right;\n",
       "    }\n",
       "</style>\n",
       "<table border=\"1\" class=\"dataframe\">\n",
       "  <thead>\n",
       "    <tr style=\"text-align: right;\">\n",
       "      <th></th>\n",
       "      <th>Height</th>\n",
       "      <th>Weight</th>\n",
       "    </tr>\n",
       "  </thead>\n",
       "  <tbody>\n",
       "    <tr>\n",
       "      <th>0</th>\n",
       "      <td>73.847017</td>\n",
       "      <td>241.893563</td>\n",
       "    </tr>\n",
       "    <tr>\n",
       "      <th>1</th>\n",
       "      <td>68.781904</td>\n",
       "      <td>162.310473</td>\n",
       "    </tr>\n",
       "    <tr>\n",
       "      <th>2</th>\n",
       "      <td>74.110105</td>\n",
       "      <td>212.740856</td>\n",
       "    </tr>\n",
       "    <tr>\n",
       "      <th>3</th>\n",
       "      <td>71.730978</td>\n",
       "      <td>220.042470</td>\n",
       "    </tr>\n",
       "    <tr>\n",
       "      <th>4</th>\n",
       "      <td>69.881796</td>\n",
       "      <td>206.349801</td>\n",
       "    </tr>\n",
       "  </tbody>\n",
       "</table>\n",
       "</div>"
      ],
      "text/plain": [
       "      Height      Weight\n",
       "0  73.847017  241.893563\n",
       "1  68.781904  162.310473\n",
       "2  74.110105  212.740856\n",
       "3  71.730978  220.042470\n",
       "4  69.881796  206.349801"
      ]
     },
     "execution_count": 4,
     "metadata": {},
     "output_type": "execute_result"
    }
   ],
   "source": [
    "df.head() # read five values of the dataset"
   ]
  },
  {
   "cell_type": "code",
   "execution_count": 5,
   "id": "df861dff",
   "metadata": {},
   "outputs": [
    {
     "data": {
      "text/plain": [
       "(3501, 2)"
      ]
     },
     "execution_count": 5,
     "metadata": {},
     "output_type": "execute_result"
    }
   ],
   "source": [
    "df.shape # It's returns the dimensions of the dataset as a tuple format like (rows, column)"
   ]
  },
  {
   "cell_type": "code",
   "execution_count": 6,
   "id": "22803d79",
   "metadata": {},
   "outputs": [
    {
     "data": {
      "text/html": [
       "<div>\n",
       "<style scoped>\n",
       "    .dataframe tbody tr th:only-of-type {\n",
       "        vertical-align: middle;\n",
       "    }\n",
       "\n",
       "    .dataframe tbody tr th {\n",
       "        vertical-align: top;\n",
       "    }\n",
       "\n",
       "    .dataframe thead th {\n",
       "        text-align: right;\n",
       "    }\n",
       "</style>\n",
       "<table border=\"1\" class=\"dataframe\">\n",
       "  <thead>\n",
       "    <tr style=\"text-align: right;\">\n",
       "      <th></th>\n",
       "      <th>Height</th>\n",
       "      <th>Weight</th>\n",
       "    </tr>\n",
       "  </thead>\n",
       "  <tbody>\n",
       "    <tr>\n",
       "      <th>3496</th>\n",
       "      <td>69.296830</td>\n",
       "      <td>185.649086</td>\n",
       "    </tr>\n",
       "    <tr>\n",
       "      <th>3497</th>\n",
       "      <td>70.542201</td>\n",
       "      <td>210.198845</td>\n",
       "    </tr>\n",
       "    <tr>\n",
       "      <th>3498</th>\n",
       "      <td>73.912549</td>\n",
       "      <td>202.429960</td>\n",
       "    </tr>\n",
       "    <tr>\n",
       "      <th>3499</th>\n",
       "      <td>67.396021</td>\n",
       "      <td>144.277671</td>\n",
       "    </tr>\n",
       "    <tr>\n",
       "      <th>3500</th>\n",
       "      <td>72.738970</td>\n",
       "      <td>187.222909</td>\n",
       "    </tr>\n",
       "  </tbody>\n",
       "</table>\n",
       "</div>"
      ],
      "text/plain": [
       "         Height      Weight\n",
       "3496  69.296830  185.649086\n",
       "3497  70.542201  210.198845\n",
       "3498  73.912549  202.429960\n",
       "3499  67.396021  144.277671\n",
       "3500  72.738970  187.222909"
      ]
     },
     "execution_count": 6,
     "metadata": {},
     "output_type": "execute_result"
    }
   ],
   "source": [
    "df.tail() # read last five values of the dataset"
   ]
  },
  {
   "cell_type": "code",
   "execution_count": 7,
   "id": "2e3c0b48",
   "metadata": {},
   "outputs": [
    {
     "data": {
      "text/html": [
       "<div>\n",
       "<style scoped>\n",
       "    .dataframe tbody tr th:only-of-type {\n",
       "        vertical-align: middle;\n",
       "    }\n",
       "\n",
       "    .dataframe tbody tr th {\n",
       "        vertical-align: top;\n",
       "    }\n",
       "\n",
       "    .dataframe thead th {\n",
       "        text-align: right;\n",
       "    }\n",
       "</style>\n",
       "<table border=\"1\" class=\"dataframe\">\n",
       "  <thead>\n",
       "    <tr style=\"text-align: right;\">\n",
       "      <th></th>\n",
       "      <th>Height</th>\n",
       "      <th>Weight</th>\n",
       "    </tr>\n",
       "  </thead>\n",
       "  <tbody>\n",
       "    <tr>\n",
       "      <th>100</th>\n",
       "      <td>70.052177</td>\n",
       "      <td>200.818737</td>\n",
       "    </tr>\n",
       "    <tr>\n",
       "      <th>101</th>\n",
       "      <td>66.743605</td>\n",
       "      <td>167.739775</td>\n",
       "    </tr>\n",
       "    <tr>\n",
       "      <th>102</th>\n",
       "      <td>66.274329</td>\n",
       "      <td>154.395625</td>\n",
       "    </tr>\n",
       "    <tr>\n",
       "      <th>103</th>\n",
       "      <td>68.328448</td>\n",
       "      <td>177.984729</td>\n",
       "    </tr>\n",
       "    <tr>\n",
       "      <th>104</th>\n",
       "      <td>70.075888</td>\n",
       "      <td>183.938857</td>\n",
       "    </tr>\n",
       "    <tr>\n",
       "      <th>105</th>\n",
       "      <td>68.732988</td>\n",
       "      <td>179.204782</td>\n",
       "    </tr>\n",
       "    <tr>\n",
       "      <th>106</th>\n",
       "      <td>67.556051</td>\n",
       "      <td>158.567987</td>\n",
       "    </tr>\n",
       "    <tr>\n",
       "      <th>107</th>\n",
       "      <td>66.253633</td>\n",
       "      <td>166.503532</td>\n",
       "    </tr>\n",
       "    <tr>\n",
       "      <th>108</th>\n",
       "      <td>69.182203</td>\n",
       "      <td>171.983678</td>\n",
       "    </tr>\n",
       "    <tr>\n",
       "      <th>109</th>\n",
       "      <td>67.609105</td>\n",
       "      <td>174.364182</td>\n",
       "    </tr>\n",
       "    <tr>\n",
       "      <th>110</th>\n",
       "      <td>69.292738</td>\n",
       "      <td>187.745352</td>\n",
       "    </tr>\n",
       "    <tr>\n",
       "      <th>111</th>\n",
       "      <td>68.190684</td>\n",
       "      <td>201.487962</td>\n",
       "    </tr>\n",
       "    <tr>\n",
       "      <th>112</th>\n",
       "      <td>71.607086</td>\n",
       "      <td>204.927012</td>\n",
       "    </tr>\n",
       "    <tr>\n",
       "      <th>113</th>\n",
       "      <td>69.196858</td>\n",
       "      <td>178.685546</td>\n",
       "    </tr>\n",
       "    <tr>\n",
       "      <th>114</th>\n",
       "      <td>67.261961</td>\n",
       "      <td>164.014428</td>\n",
       "    </tr>\n",
       "    <tr>\n",
       "      <th>115</th>\n",
       "      <td>73.685193</td>\n",
       "      <td>223.270004</td>\n",
       "    </tr>\n",
       "    <tr>\n",
       "      <th>116</th>\n",
       "      <td>69.537215</td>\n",
       "      <td>202.958306</td>\n",
       "    </tr>\n",
       "    <tr>\n",
       "      <th>117</th>\n",
       "      <td>68.311560</td>\n",
       "      <td>189.391786</td>\n",
       "    </tr>\n",
       "    <tr>\n",
       "      <th>118</th>\n",
       "      <td>67.738963</td>\n",
       "      <td>178.170556</td>\n",
       "    </tr>\n",
       "    <tr>\n",
       "      <th>119</th>\n",
       "      <td>71.705763</td>\n",
       "      <td>223.299335</td>\n",
       "    </tr>\n",
       "    <tr>\n",
       "      <th>120</th>\n",
       "      <td>63.632265</td>\n",
       "      <td>167.028707</td>\n",
       "    </tr>\n",
       "    <tr>\n",
       "      <th>121</th>\n",
       "      <td>68.721198</td>\n",
       "      <td>180.468682</td>\n",
       "    </tr>\n",
       "    <tr>\n",
       "      <th>122</th>\n",
       "      <td>66.949342</td>\n",
       "      <td>164.439146</td>\n",
       "    </tr>\n",
       "    <tr>\n",
       "      <th>123</th>\n",
       "      <td>62.706990</td>\n",
       "      <td>149.969618</td>\n",
       "    </tr>\n",
       "    <tr>\n",
       "      <th>124</th>\n",
       "      <td>72.258409</td>\n",
       "      <td>192.910267</td>\n",
       "    </tr>\n",
       "  </tbody>\n",
       "</table>\n",
       "</div>"
      ],
      "text/plain": [
       "        Height      Weight\n",
       "100  70.052177  200.818737\n",
       "101  66.743605  167.739775\n",
       "102  66.274329  154.395625\n",
       "103  68.328448  177.984729\n",
       "104  70.075888  183.938857\n",
       "105  68.732988  179.204782\n",
       "106  67.556051  158.567987\n",
       "107  66.253633  166.503532\n",
       "108  69.182203  171.983678\n",
       "109  67.609105  174.364182\n",
       "110  69.292738  187.745352\n",
       "111  68.190684  201.487962\n",
       "112  71.607086  204.927012\n",
       "113  69.196858  178.685546\n",
       "114  67.261961  164.014428\n",
       "115  73.685193  223.270004\n",
       "116  69.537215  202.958306\n",
       "117  68.311560  189.391786\n",
       "118  67.738963  178.170556\n",
       "119  71.705763  223.299335\n",
       "120  63.632265  167.028707\n",
       "121  68.721198  180.468682\n",
       "122  66.949342  164.439146\n",
       "123  62.706990  149.969618\n",
       "124  72.258409  192.910267"
      ]
     },
     "execution_count": 7,
     "metadata": {},
     "output_type": "execute_result"
    }
   ],
   "source": [
    "df[100:125] #To access specific rows in a DataFrame using index values"
   ]
  },
  {
   "cell_type": "markdown",
   "id": "52426db6",
   "metadata": {},
   "source": [
    "Checking if any null values exits in my dataset"
   ]
  },
  {
   "cell_type": "code",
   "execution_count": 8,
   "id": "c1ac0ca5",
   "metadata": {},
   "outputs": [
    {
     "data": {
      "text/plain": [
       "False"
      ]
     },
     "execution_count": 8,
     "metadata": {},
     "output_type": "execute_result"
    }
   ],
   "source": [
    "df.isnull().values.any() # No Null values exits in my dataset that's why output will be False"
   ]
  },
  {
   "cell_type": "markdown",
   "id": "b8506975",
   "metadata": {},
   "source": [
    "##### create a scatter plot with height values on the x-axis and weight values on the y-axis. The plot will be titled 'Height vs. Weight'."
   ]
  },
  {
   "cell_type": "code",
   "execution_count": 9,
   "id": "21cfe3f9",
   "metadata": {},
   "outputs": [
    {
     "data": {
      "text/plain": [
       "Text(0.5, 1.0, 'Height vs. Weight')"
      ]
     },
     "execution_count": 9,
     "metadata": {},
     "output_type": "execute_result"
    },
    {
     "data": {
      "image/png": "[encoded data removed]",
      "text/plain": [
       "<Figure size 640x480 with 1 Axes>"
      ]
     },
     "metadata": {},
     "output_type": "display_data"
    }
   ],
   "source": [
    "plt.scatter(df['Height'], df['Weight'])\n",
    "plt.xlabel('Height (inches)')\n",
    "plt.ylabel('Weight (pounds)')\n",
    "plt.title('Height vs. Weight')"
   ]
  },
  {
   "cell_type": "markdown",
   "id": "135791c7",
   "metadata": {},
   "source": [
    "- sum(df.Height) calculates the sum of all the values in the 'Height' column of the DataFrame df.\n",
    "- df.shape[0] retrieves the number of rows in the DataFrame df using the shape attribute and indexing [0]."
   ]
  },
  {
   "cell_type": "code",
   "execution_count": 10,
   "id": "944b652d",
   "metadata": {},
   "outputs": [
    {
     "data": {
      "text/plain": [
       "69.02441087268797"
      ]
     },
     "execution_count": 10,
     "metadata": {},
     "output_type": "execute_result"
    }
   ],
   "source": [
    "mean_height = sum(df.Height) / df.shape[0] # or df.Height.mean()\n",
    "mean_height "
   ]
  },
  {
   "cell_type": "code",
   "execution_count": 11,
   "id": "8b8fe705",
   "metadata": {},
   "outputs": [
    {
     "data": {
      "text/plain": [
       "186.89125797946284"
      ]
     },
     "execution_count": 11,
     "metadata": {},
     "output_type": "execute_result"
    }
   ],
   "source": [
    "df.Weight.mean() # mean of the weight values"
   ]
  },
  {
   "cell_type": "markdown",
   "id": "9a5c8795",
   "metadata": {},
   "source": [
    "To split the data into training and testing sets for your linear regression analysis"
   ]
  },
  {
   "cell_type": "code",
   "execution_count": 12,
   "id": "16699c6e",
   "metadata": {},
   "outputs": [],
   "source": [
    "from sklearn.model_selection import train_test_split"
   ]
  },
  {
   "cell_type": "code",
   "execution_count": 13,
   "id": "27a8c745",
   "metadata": {},
   "outputs": [],
   "source": [
    "# Defining the feature and predicted class\n",
    "feature_column = ['Height']\n",
    "predicted_class = ['Weight']"
   ]
  },
  {
   "cell_type": "code",
   "execution_count": 14,
   "id": "5e57ab27",
   "metadata": {},
   "outputs": [],
   "source": [
    "# Extracting the 'Height' and 'Weight' data from the DataFrame as NumPy arrays\n",
    "height = df[feature_column].values\n",
    "weight = df[predicted_class].values"
   ]
  },
  {
   "cell_type": "code",
   "execution_count": 15,
   "id": "bc1bb1ac",
   "metadata": {},
   "outputs": [],
   "source": [
    "# Specifying the test size for splitting 20%\n",
    "split_test_size = 0.20"
   ]
  },
  {
   "cell_type": "markdown",
   "id": "9b63dbe5",
   "metadata": {},
   "source": [
    "Setting random_state = 42 is to guarantee that the splitting happens from the same place every time the program is run."
   ]
  },
  {
   "cell_type": "code",
   "execution_count": 16,
   "id": "3ae80fd1",
   "metadata": {},
   "outputs": [],
   "source": [
    "# Splitting the data using scikit-learn train_test_split function\n",
    "height_train, height_test, weight_train, weight_test = train_test_split(\n",
    "    height, weight, test_size=split_test_size, random_state=42)"
   ]
  },
  {
   "cell_type": "markdown",
   "id": "bcf63529",
   "metadata": {},
   "source": [
    "### Is the splitting of the dataset really 70-30? Let's check"
   ]
  },
  {
   "cell_type": "code",
   "execution_count": 17,
   "id": "0cf98527",
   "metadata": {},
   "outputs": [
    {
     "name": "stdout",
     "output_type": "stream",
     "text": [
      "79.98% in training set\n",
      "20.02% in test set\n"
     ]
    }
   ],
   "source": [
    "# Calculate the percentages of data in the training and test sets\n",
    "train_percentage = (len(height_train) / len(df.index)) * 100\n",
    "test_percentage = (len(height_test) / len(df.index)) * 100\n",
    "\n",
    "# Print the percentages\n",
    "print(\"{0:.2f}% in training set\".format(train_percentage))\n",
    "print(\"{0:.2f}% in test set\".format(test_percentage))"
   ]
  },
  {
   "cell_type": "markdown",
   "id": "843ab2cd",
   "metadata": {},
   "source": [
    "- the values 0 and 1 represent the x-index positions of the labels\n",
    "- the first occurrence of train_percentage represents the y-coordinate or height of the 'Training Set' bar where the label will be positioned.\n",
    "- The second occurrence of train_percentage within plt.text() is the actual text or label content that will be displayed on top of the bar. \n",
    "- ha='center':This sets the horizontal alignment of the text label to the center. change ha = \"left\", ha = \"right\"\n",
    "- va='bottom': This sets the vertical alignment of the text label to the bottom.  change va = \"top\""
   ]
  },
  {
   "cell_type": "code",
   "execution_count": 18,
   "id": "1895e741",
   "metadata": {},
   "outputs": [
    {
     "data": {
      "text/plain": [
       "Text(1, 20.022850614110254, '20.02%')"
      ]
     },
     "execution_count": 18,
     "metadata": {},
     "output_type": "execute_result"
    },
    {
     "data": {
      "image/png": "[encoded data removed]",
      "text/plain": [
       "<Figure size 640x480 with 1 Axes>"
      ]
     },
     "metadata": {},
     "output_type": "display_data"
    }
   ],
   "source": [
    "# Create a bar plot with color changes\n",
    "plt.bar(['Training Set', 'Test Set'], [train_percentage, test_percentage], color=['Red', 'Green'])\n",
    "plt.xlabel('Dataset')\n",
    "plt.ylabel('Percentage')\n",
    "plt.title('Percentage of Data in Training and Test Sets')\n",
    "\n",
    "# Add labels to the bars\n",
    "plt.text(0, train_percentage, \"{0:.2f}%\".format(train_percentage), ha='left', va='bottom', color='blue')\n",
    "plt.text(1, test_percentage, \"{0:.2f}%\".format(test_percentage), ha='center', va='bottom', color='black')"
   ]
  },
  {
   "cell_type": "markdown",
   "id": "492f40b5",
   "metadata": {},
   "source": [
    "# Model training using Linear Regression"
   ]
  },
  {
   "cell_type": "code",
   "execution_count": 19,
   "id": "382dbbc1",
   "metadata": {},
   "outputs": [],
   "source": [
    "from sklearn.linear_model import LinearRegression\n",
    "\n",
    "# Create an instance of the LinearRegression model\n",
    "lr_model = LinearRegression()"
   ]
  },
  {
   "cell_type": "code",
   "execution_count": 20,
   "id": "c9890545",
   "metadata": {},
   "outputs": [
    {
     "data": {
      "text/plain": [
       "LinearRegression()"
      ]
     },
     "execution_count": 20,
     "metadata": {},
     "output_type": "execute_result"
    }
   ],
   "source": [
    "# Fit the model to the training data\n",
    "lr_model.fit(height_train, weight_train)"
   ]
  },
  {
   "cell_type": "code",
   "execution_count": 21,
   "id": "23250509",
   "metadata": {},
   "outputs": [
    {
     "name": "stdout",
     "output_type": "stream",
     "text": [
      "Slope: 5.962329125895916\n",
      "Intercept: -224.77329699393547\n"
     ]
    }
   ],
   "source": [
    "# Print the coefficients (slope and intercept)\n",
    "print(\"Slope:\", lr_model.coef_[0][0])\n",
    "print(\"Intercept:\", lr_model.intercept_[0])"
   ]
  },
  {
   "cell_type": "code",
   "execution_count": 22,
   "id": "e681b68c",
   "metadata": {},
   "outputs": [
    {
     "data": {
      "text/plain": [
       "array([[183.6928432 ],\n",
       "       [214.63163322],\n",
       "       [207.43388672],\n",
       "       ...,\n",
       "       [175.47360317],\n",
       "       [187.07155869],\n",
       "       [174.17725431]])"
      ]
     },
     "execution_count": 22,
     "metadata": {},
     "output_type": "execute_result"
    }
   ],
   "source": [
    "# This returns array of predicted results, predicted from the train data\n",
    "prediction_from_trained_data = lr_model.predict(height_train)\n",
    "prediction_from_trained_data"
   ]
  },
  {
   "cell_type": "code",
   "execution_count": 23,
   "id": "eada1b13",
   "metadata": {},
   "outputs": [
    {
     "data": {
      "text/plain": [
       "array([[194.52602871],\n",
       "       [176.32221443],\n",
       "       [187.47569079],\n",
       "       [235.28479353],\n",
       "       [208.55066489],\n",
       "       [188.65262141],\n",
       "       [175.7815701 ],\n",
       "       [185.78481771],\n",
       "       [173.36073152],\n",
       "       [202.75084787],\n",
       "       [174.60458851],\n",
       "       [218.38085184],\n",
       "       [201.04996482],\n",
       "       [197.93188467],\n",
       "       [182.77830568],\n",
       "       [176.85410589],\n",
       "       [202.8203235 ],\n",
       "       [200.51903044],\n",
       "       [174.19532494],\n",
       "       [185.6276918 ],\n",
       "       [178.87851946],\n",
       "       [165.69822081],\n",
       "       [171.96478941],\n",
       "       [177.26568654],\n",
       "       [188.00332531],\n",
       "       [175.87446611],\n",
       "       [190.31072367],\n",
       "       [182.86506281],\n",
       "       [179.50428904],\n",
       "       [163.93926807],\n",
       "       [170.69319143],\n",
       "       [197.17335484],\n",
       "       [171.52507998],\n",
       "       [188.04079205],\n",
       "       [200.6829025 ],\n",
       "       [189.44894806],\n",
       "       [167.1960159 ],\n",
       "       [202.30641997],\n",
       "       [172.72262624],\n",
       "       [169.58152465],\n",
       "       [199.39304483],\n",
       "       [167.75318095],\n",
       "       [181.3692217 ],\n",
       "       [211.19037957],\n",
       "       [200.97256616],\n",
       "       [187.16182478],\n",
       "       [164.56032669],\n",
       "       [183.1386456 ],\n",
       "       [186.72444835],\n",
       "       [201.70146882],\n",
       "       [188.35356636],\n",
       "       [188.39721061],\n",
       "       [181.2193706 ],\n",
       "       [202.16269708],\n",
       "       [183.77879691],\n",
       "       [193.68412667],\n",
       "       [178.75763855],\n",
       "       [203.13390468],\n",
       "       [190.97278738],\n",
       "       [179.69684908],\n",
       "       [160.98519091],\n",
       "       [205.25915478],\n",
       "       [169.83737886],\n",
       "       [189.4363019 ],\n",
       "       [180.69745305],\n",
       "       [221.57207278],\n",
       "       [228.52518754],\n",
       "       [179.55967896],\n",
       "       [184.1852787 ],\n",
       "       [184.80748417],\n",
       "       [214.07205307],\n",
       "       [206.41144679],\n",
       "       [188.12225118],\n",
       "       [176.96878467],\n",
       "       [180.87216194],\n",
       "       [203.81979123],\n",
       "       [215.24024888],\n",
       "       [177.63752177],\n",
       "       [206.67343111],\n",
       "       [195.18186608],\n",
       "       [175.35920891],\n",
       "       [185.12722051],\n",
       "       [177.23221396],\n",
       "       [205.6903512 ],\n",
       "       [219.68934418],\n",
       "       [174.10807442],\n",
       "       [180.65559905],\n",
       "       [188.67519824],\n",
       "       [194.76833294],\n",
       "       [181.50332957],\n",
       "       [216.77549377],\n",
       "       [188.88683803],\n",
       "       [204.39520983],\n",
       "       [207.85817066],\n",
       "       [176.21316039],\n",
       "       [183.44097444],\n",
       "       [194.91028455],\n",
       "       [174.13503541],\n",
       "       [201.00112339],\n",
       "       [168.33785935],\n",
       "       [182.07151443],\n",
       "       [176.94682887],\n",
       "       [167.33029572],\n",
       "       [170.83517703],\n",
       "       [159.26944055],\n",
       "       [172.66818916],\n",
       "       [188.07351934],\n",
       "       [185.0369552 ],\n",
       "       [204.8118599 ],\n",
       "       [156.74376955],\n",
       "       [183.59527171],\n",
       "       [184.17903667],\n",
       "       [171.78146818],\n",
       "       [172.2710609 ],\n",
       "       [191.12960885],\n",
       "       [198.95098821],\n",
       "       [198.2151969 ],\n",
       "       [137.01974564],\n",
       "       [180.01164336],\n",
       "       [179.99271106],\n",
       "       [201.02248343],\n",
       "       [197.33781424],\n",
       "       [209.05596949],\n",
       "       [190.8145031 ],\n",
       "       [173.28437549],\n",
       "       [205.11241906],\n",
       "       [211.10908816],\n",
       "       [178.90818104],\n",
       "       [199.72418663],\n",
       "       [203.37670951],\n",
       "       [197.88122908],\n",
       "       [188.33217024],\n",
       "       [156.66268856],\n",
       "       [177.06396067],\n",
       "       [201.05058276],\n",
       "       [200.50175895],\n",
       "       [203.61071876],\n",
       "       [164.5216886 ],\n",
       "       [219.00584882],\n",
       "       [178.18440544],\n",
       "       [213.13704413],\n",
       "       [200.56626932],\n",
       "       [163.9347147 ],\n",
       "       [209.77142722],\n",
       "       [202.22770262],\n",
       "       [188.38133656],\n",
       "       [211.07818654],\n",
       "       [171.56517396],\n",
       "       [178.51396197],\n",
       "       [179.48480373],\n",
       "       [175.72454287],\n",
       "       [181.06085129],\n",
       "       [172.18657231],\n",
       "       [181.17180248],\n",
       "       [184.00908036],\n",
       "       [151.91829388],\n",
       "       [204.13213476],\n",
       "       [207.13484819],\n",
       "       [184.3504621 ],\n",
       "       [166.75827571],\n",
       "       [211.20417097],\n",
       "       [185.79913487],\n",
       "       [170.3868534 ],\n",
       "       [193.35224853],\n",
       "       [195.86450351],\n",
       "       [167.06011427],\n",
       "       [150.38807153],\n",
       "       [185.21110648],\n",
       "       [139.37289629],\n",
       "       [179.35695857],\n",
       "       [183.53818306],\n",
       "       [184.2225829 ],\n",
       "       [205.62334726],\n",
       "       [186.41495541],\n",
       "       [163.93703655],\n",
       "       [159.70982373],\n",
       "       [193.91801901],\n",
       "       [143.48703623],\n",
       "       [161.75300201],\n",
       "       [178.35300997],\n",
       "       [171.02743179],\n",
       "       [170.98535748],\n",
       "       [190.62291266],\n",
       "       [187.70159247],\n",
       "       [170.30744489],\n",
       "       [152.49843971],\n",
       "       [183.66569134],\n",
       "       [193.2998418 ],\n",
       "       [172.7756171 ],\n",
       "       [167.18355815],\n",
       "       [187.23547075],\n",
       "       [169.40361006],\n",
       "       [175.76544666],\n",
       "       [180.44409067],\n",
       "       [188.89490256],\n",
       "       [203.17734091],\n",
       "       [186.15663523],\n",
       "       [173.33165408],\n",
       "       [173.061207  ],\n",
       "       [185.39574521],\n",
       "       [176.89422992],\n",
       "       [205.86625529],\n",
       "       [207.73020655],\n",
       "       [180.58146274],\n",
       "       [215.18032061],\n",
       "       [218.86263403],\n",
       "       [196.1493985 ],\n",
       "       [199.01573743],\n",
       "       [170.82653499],\n",
       "       [171.64545898],\n",
       "       [184.48291244],\n",
       "       [190.03446768],\n",
       "       [206.02110878],\n",
       "       [179.40583566],\n",
       "       [203.57997574],\n",
       "       [201.31718866],\n",
       "       [177.49175761],\n",
       "       [218.00045393],\n",
       "       [194.26612369],\n",
       "       [209.720725  ],\n",
       "       [192.60154812],\n",
       "       [166.97878977],\n",
       "       [213.85764563],\n",
       "       [205.04015885],\n",
       "       [214.18337297],\n",
       "       [196.0187461 ],\n",
       "       [196.53882803],\n",
       "       [166.97984146],\n",
       "       [195.86472829],\n",
       "       [184.9611161 ],\n",
       "       [195.46134155],\n",
       "       [183.07223187],\n",
       "       [225.17382655],\n",
       "       [181.32748104],\n",
       "       [233.17140274],\n",
       "       [186.128323  ],\n",
       "       [187.51446006],\n",
       "       [229.05936942],\n",
       "       [173.83749474],\n",
       "       [178.14393619],\n",
       "       [189.17024292],\n",
       "       [190.02090338],\n",
       "       [161.17974839],\n",
       "       [183.43383473],\n",
       "       [172.76861697],\n",
       "       [207.19057164],\n",
       "       [187.4614246 ],\n",
       "       [166.50458546],\n",
       "       [192.52983836],\n",
       "       [223.33674918],\n",
       "       [160.08891893],\n",
       "       [216.59259313],\n",
       "       [147.38594956],\n",
       "       [206.77218523],\n",
       "       [175.4202873 ],\n",
       "       [197.81862761],\n",
       "       [202.90225359],\n",
       "       [204.03873642],\n",
       "       [163.38656422],\n",
       "       [175.22017264],\n",
       "       [180.2678961 ],\n",
       "       [188.72488615],\n",
       "       [154.69353313],\n",
       "       [169.37265847],\n",
       "       [151.94836674],\n",
       "       [167.71607213],\n",
       "       [185.38755118],\n",
       "       [180.87433324],\n",
       "       [170.09673189],\n",
       "       [217.06247266],\n",
       "       [185.99193364],\n",
       "       [182.4286118 ],\n",
       "       [179.78343813],\n",
       "       [186.72321039],\n",
       "       [161.01200732],\n",
       "       [169.12879194],\n",
       "       [168.66272382],\n",
       "       [221.45635661],\n",
       "       [154.01129159],\n",
       "       [193.71523393],\n",
       "       [200.06373072],\n",
       "       [179.09786258],\n",
       "       [182.32763039],\n",
       "       [170.37606582],\n",
       "       [185.20388831],\n",
       "       [187.62810795],\n",
       "       [177.66612229],\n",
       "       [216.36664297],\n",
       "       [193.8634687 ],\n",
       "       [183.77771421],\n",
       "       [183.87865012],\n",
       "       [210.92781821],\n",
       "       [188.12764131],\n",
       "       [177.7454593 ],\n",
       "       [175.15500855],\n",
       "       [154.40970146],\n",
       "       [180.5061897 ],\n",
       "       [170.10636886],\n",
       "       [209.76775967],\n",
       "       [182.68176329],\n",
       "       [166.82288106],\n",
       "       [208.13769204],\n",
       "       [199.83947893],\n",
       "       [191.0993529 ],\n",
       "       [198.41190112],\n",
       "       [183.22514295],\n",
       "       [209.68724193],\n",
       "       [182.1976825 ],\n",
       "       [203.0322995 ],\n",
       "       [205.24493761],\n",
       "       [178.8810838 ],\n",
       "       [197.82844154],\n",
       "       [194.19575318],\n",
       "       [180.60672357],\n",
       "       [184.20316032],\n",
       "       [156.4775602 ],\n",
       "       [163.2020981 ],\n",
       "       [194.37950757],\n",
       "       [176.98723581],\n",
       "       [199.79935574],\n",
       "       [195.42259845],\n",
       "       [167.28262774],\n",
       "       [169.0621743 ],\n",
       "       [143.54077244],\n",
       "       [176.87000318],\n",
       "       [182.176455  ],\n",
       "       [176.61532796],\n",
       "       [198.3644219 ],\n",
       "       [172.06280545],\n",
       "       [215.86470835],\n",
       "       [167.40282632],\n",
       "       [175.58612979],\n",
       "       [186.01340709],\n",
       "       [167.87114641],\n",
       "       [171.56227996],\n",
       "       [182.93062637],\n",
       "       [166.32151888],\n",
       "       [196.95452704],\n",
       "       [197.62231977],\n",
       "       [173.52687802],\n",
       "       [199.16890525],\n",
       "       [203.14164331],\n",
       "       [172.87300876],\n",
       "       [198.8949698 ],\n",
       "       [180.94409654],\n",
       "       [192.11765867],\n",
       "       [175.42719561],\n",
       "       [160.2315667 ],\n",
       "       [198.3569034 ],\n",
       "       [186.6939561 ],\n",
       "       [243.43773926],\n",
       "       [185.27076811],\n",
       "       [214.10399971],\n",
       "       [188.66871391],\n",
       "       [161.63703423],\n",
       "       [179.85606842],\n",
       "       [154.81652364],\n",
       "       [182.13701652],\n",
       "       [184.52516884],\n",
       "       [179.1850908 ],\n",
       "       [191.96610461],\n",
       "       [159.92123104],\n",
       "       [189.81643329],\n",
       "       [205.16496363],\n",
       "       [213.8291702 ],\n",
       "       [203.95397357],\n",
       "       [188.08062447],\n",
       "       [213.67651877],\n",
       "       [204.40234728],\n",
       "       [198.75973422],\n",
       "       [199.73224137],\n",
       "       [196.82859031],\n",
       "       [219.10187994],\n",
       "       [197.76961309],\n",
       "       [188.59029134],\n",
       "       [217.32063322],\n",
       "       [183.31570793],\n",
       "       [201.04400041],\n",
       "       [189.78548654],\n",
       "       [199.24475425],\n",
       "       [189.65735948],\n",
       "       [203.27436714],\n",
       "       [190.12107665],\n",
       "       [198.08608159],\n",
       "       [227.68063119],\n",
       "       [149.12021098],\n",
       "       [180.46217245],\n",
       "       [174.68416837],\n",
       "       [182.73307157],\n",
       "       [186.04741639],\n",
       "       [171.50363479],\n",
       "       [144.51740952],\n",
       "       [202.13958351],\n",
       "       [189.91864872],\n",
       "       [180.49909131],\n",
       "       [158.77487036],\n",
       "       [187.60750703],\n",
       "       [199.17566707],\n",
       "       [143.34482478],\n",
       "       [185.21710542],\n",
       "       [186.24795564],\n",
       "       [206.0551191 ],\n",
       "       [167.98460536],\n",
       "       [200.18173296],\n",
       "       [217.75777575],\n",
       "       [170.9318225 ],\n",
       "       [190.08013924],\n",
       "       [191.26557005],\n",
       "       [182.58169138],\n",
       "       [198.30194689],\n",
       "       [187.72942683],\n",
       "       [181.07347294],\n",
       "       [196.85456961],\n",
       "       [213.70344829],\n",
       "       [182.12264522],\n",
       "       [187.00953008],\n",
       "       [174.2782784 ],\n",
       "       [195.02683532],\n",
       "       [175.75281218],\n",
       "       [195.46764707],\n",
       "       [173.84845666],\n",
       "       [207.17567471],\n",
       "       [164.01436522],\n",
       "       [163.85689951],\n",
       "       [177.44482287],\n",
       "       [185.580735  ],\n",
       "       [183.8215898 ],\n",
       "       [154.62320758],\n",
       "       [186.36077787],\n",
       "       [203.19669773],\n",
       "       [190.98664103],\n",
       "       [180.08876692],\n",
       "       [195.31034395],\n",
       "       [189.92618087],\n",
       "       [201.10141495],\n",
       "       [193.31593055],\n",
       "       [171.21408871],\n",
       "       [160.31718115],\n",
       "       [178.07170829],\n",
       "       [171.74433581],\n",
       "       [203.30265923],\n",
       "       [190.60860307],\n",
       "       [178.33443857],\n",
       "       [189.07915486],\n",
       "       [200.6551692 ],\n",
       "       [207.75377552],\n",
       "       [168.1638756 ],\n",
       "       [220.31163807],\n",
       "       [204.27917378],\n",
       "       [177.0386386 ],\n",
       "       [192.83668313],\n",
       "       [196.26101008],\n",
       "       [200.30458651],\n",
       "       [198.57329767],\n",
       "       [180.77883384],\n",
       "       [150.92764091],\n",
       "       [176.43645385],\n",
       "       [189.66416965],\n",
       "       [214.54581706],\n",
       "       [186.9785017 ],\n",
       "       [189.54446236],\n",
       "       [199.52525214],\n",
       "       [197.9645478 ],\n",
       "       [177.33533322],\n",
       "       [193.21451199],\n",
       "       [171.81199047],\n",
       "       [190.00205938],\n",
       "       [167.36025124],\n",
       "       [213.63846176],\n",
       "       [202.41315491],\n",
       "       [203.17192932],\n",
       "       [154.26038107],\n",
       "       [169.58527012],\n",
       "       [206.08968183],\n",
       "       [205.05040899],\n",
       "       [185.28580809],\n",
       "       [194.70656613],\n",
       "       [172.05897942],\n",
       "       [182.04316832],\n",
       "       [177.1415013 ],\n",
       "       [182.4932847 ],\n",
       "       [186.61815278],\n",
       "       [191.95662349],\n",
       "       [226.56677939],\n",
       "       [204.3331331 ],\n",
       "       [163.92800416],\n",
       "       [182.37284798],\n",
       "       [192.86969148],\n",
       "       [195.43729834],\n",
       "       [221.68774447],\n",
       "       [174.03389642],\n",
       "       [170.24382965],\n",
       "       [177.39301297],\n",
       "       [199.05769935],\n",
       "       [192.48177328],\n",
       "       [184.40278321],\n",
       "       [198.88395899],\n",
       "       [154.85587704],\n",
       "       [172.07995346],\n",
       "       [204.02728923],\n",
       "       [197.28027645],\n",
       "       [176.46373193],\n",
       "       [191.7312995 ],\n",
       "       [182.14638226],\n",
       "       [207.05319541],\n",
       "       [215.52692344],\n",
       "       [176.13798049],\n",
       "       [184.29142258],\n",
       "       [192.55011481],\n",
       "       [174.51754017],\n",
       "       [176.4063903 ],\n",
       "       [148.58754538],\n",
       "       [185.2495328 ],\n",
       "       [178.09021006],\n",
       "       [198.05452525],\n",
       "       [175.84842576],\n",
       "       [213.23612374],\n",
       "       [162.12477523],\n",
       "       [176.65282248],\n",
       "       [172.65269206],\n",
       "       [190.50553461],\n",
       "       [197.49027958],\n",
       "       [189.45702534],\n",
       "       [208.6195478 ],\n",
       "       [199.82748809],\n",
       "       [178.7093469 ],\n",
       "       [172.52466094],\n",
       "       [196.06345636],\n",
       "       [175.63265581],\n",
       "       [208.71548353],\n",
       "       [172.50505042],\n",
       "       [188.38955808],\n",
       "       [195.14444328],\n",
       "       [215.00541766],\n",
       "       [183.62319443],\n",
       "       [161.7118611 ],\n",
       "       [187.97084648],\n",
       "       [192.70965904],\n",
       "       [195.77103059],\n",
       "       [200.45660617],\n",
       "       [164.77504525],\n",
       "       [160.44145076],\n",
       "       [178.57791576],\n",
       "       [202.57898868],\n",
       "       [193.64480809],\n",
       "       [210.35420685],\n",
       "       [206.55461155],\n",
       "       [190.02462661],\n",
       "       [172.68213964],\n",
       "       [196.72416548],\n",
       "       [181.44776412],\n",
       "       [167.87566555],\n",
       "       [163.89436852],\n",
       "       [193.72988511],\n",
       "       [195.89315077],\n",
       "       [168.75215757],\n",
       "       [193.87132753],\n",
       "       [214.10842274],\n",
       "       [226.54111603],\n",
       "       [188.39996365],\n",
       "       [179.506483  ],\n",
       "       [190.6610966 ],\n",
       "       [198.15408703],\n",
       "       [186.68834382],\n",
       "       [181.83422345],\n",
       "       [162.01832005],\n",
       "       [202.95641229],\n",
       "       [178.85911584],\n",
       "       [162.0591471 ],\n",
       "       [192.43651515],\n",
       "       [191.24178382],\n",
       "       [176.13788003],\n",
       "       [199.63993009],\n",
       "       [205.54920069],\n",
       "       [180.58383849],\n",
       "       [184.05392042],\n",
       "       [200.04346458],\n",
       "       [189.10845363],\n",
       "       [185.21893979],\n",
       "       [165.62968026],\n",
       "       [181.35475607],\n",
       "       [201.7781814 ],\n",
       "       [177.83082674],\n",
       "       [175.69962206],\n",
       "       [192.73709768],\n",
       "       [195.50902063],\n",
       "       [200.52002401],\n",
       "       [177.97648745],\n",
       "       [233.38804511],\n",
       "       [181.44190601],\n",
       "       [182.74304774],\n",
       "       [188.56432319],\n",
       "       [202.18050429],\n",
       "       [192.24126723],\n",
       "       [201.97876077],\n",
       "       [216.53980445],\n",
       "       [197.91940689],\n",
       "       [163.24168195],\n",
       "       [163.04904833],\n",
       "       [204.96469228],\n",
       "       [170.99663815],\n",
       "       [202.73305897],\n",
       "       [205.07168776],\n",
       "       [210.65614778],\n",
       "       [177.12200001],\n",
       "       [184.00987598],\n",
       "       [181.52385453],\n",
       "       [160.25789145],\n",
       "       [188.92088782],\n",
       "       [188.59409644],\n",
       "       [167.97933311],\n",
       "       [171.95896344],\n",
       "       [188.59261354],\n",
       "       [198.35880479],\n",
       "       [209.07778762],\n",
       "       [162.69163264],\n",
       "       [179.14294232],\n",
       "       [134.57096001],\n",
       "       [168.38058337],\n",
       "       [182.3404993 ],\n",
       "       [216.64063048],\n",
       "       [207.74196736],\n",
       "       [220.65421097],\n",
       "       [212.27655215],\n",
       "       [149.59533593],\n",
       "       [199.75443233],\n",
       "       [201.69331695],\n",
       "       [208.26543667],\n",
       "       [201.47468043],\n",
       "       [190.67672673],\n",
       "       [195.83329567],\n",
       "       [213.96277365],\n",
       "       [165.49605266],\n",
       "       [172.80818125],\n",
       "       [195.94868582],\n",
       "       [172.99723043],\n",
       "       [199.56931346],\n",
       "       [182.23227975],\n",
       "       [169.01137657],\n",
       "       [167.77686004],\n",
       "       [195.17660062],\n",
       "       [182.45987688],\n",
       "       [203.91049018],\n",
       "       [176.05612105],\n",
       "       [178.27671881],\n",
       "       [154.11107403],\n",
       "       [180.69974849],\n",
       "       [205.47758435],\n",
       "       [199.30978072],\n",
       "       [178.59335289],\n",
       "       [177.64131137],\n",
       "       [190.01802465],\n",
       "       [163.24627914],\n",
       "       [197.32992828],\n",
       "       [190.28226172],\n",
       "       [193.39624062],\n",
       "       [172.21049198],\n",
       "       [167.5357549 ],\n",
       "       [182.13148318],\n",
       "       [183.4043553 ],\n",
       "       [185.19044779],\n",
       "       [210.27329465],\n",
       "       [190.34144916],\n",
       "       [202.70865974],\n",
       "       [206.72006589],\n",
       "       [215.84245986],\n",
       "       [194.55858327],\n",
       "       [153.19758034],\n",
       "       [222.46067882],\n",
       "       [203.16814181],\n",
       "       [187.64435584],\n",
       "       [174.65009169],\n",
       "       [189.37501088],\n",
       "       [169.62793315],\n",
       "       [185.26404368],\n",
       "       [168.57982998],\n",
       "       [167.60705768],\n",
       "       [212.61352606],\n",
       "       [189.75730136],\n",
       "       [185.23319191],\n",
       "       [167.30588249],\n",
       "       [185.88464857],\n",
       "       [179.71069915],\n",
       "       [194.32689133],\n",
       "       [169.82484581],\n",
       "       [159.40679705],\n",
       "       [203.09385912],\n",
       "       [206.27175711],\n",
       "       [190.45466861],\n",
       "       [202.67125889],\n",
       "       [169.30278802],\n",
       "       [169.16890565],\n",
       "       [198.2350895 ],\n",
       "       [179.59838276],\n",
       "       [195.37461965],\n",
       "       [183.18814497],\n",
       "       [180.03770673],\n",
       "       [179.0588984 ],\n",
       "       [206.62966607],\n",
       "       [163.36857712],\n",
       "       [179.12435375]])"
      ]
     },
     "execution_count": 23,
     "metadata": {},
     "output_type": "execute_result"
    }
   ],
   "source": [
    "# predicted from the test data\n",
    "prediction_from_test_data = lr_model.predict(height_test)\n",
    "prediction_from_test_data"
   ]
  },
  {
   "cell_type": "markdown",
   "id": "09e54740",
   "metadata": {},
   "source": [
    "Specifying specific 'Height' values for prediction"
   ]
  },
  {
   "cell_type": "code",
   "execution_count": 24,
   "id": "43604fe7",
   "metadata": {},
   "outputs": [],
   "source": [
    "height_values = [[70.12], [72.45], [68.59]]"
   ]
  },
  {
   "cell_type": "markdown",
   "id": "64e44ae6",
   "metadata": {},
   "source": [
    "Predicting 'Weight' values for the specified 'Height' values"
   ]
  },
  {
   "cell_type": "code",
   "execution_count": 25,
   "id": "df29f79a",
   "metadata": {},
   "outputs": [
    {
     "data": {
      "text/plain": [
       "array([[193.30522131],\n",
       "       [207.19744818],\n",
       "       [184.18285775]])"
      ]
     },
     "execution_count": 25,
     "metadata": {},
     "output_type": "execute_result"
    }
   ],
   "source": [
    "weight_predictions = lr_model.predict(height_values)\n",
    "weight_predictions"
   ]
  },
  {
   "cell_type": "markdown",
   "id": "7cd97530",
   "metadata": {},
   "source": [
    "Assigning coefficient and intercept values"
   ]
  },
  {
   "cell_type": "code",
   "execution_count": 26,
   "id": "4ac36f6c",
   "metadata": {},
   "outputs": [],
   "source": [
    "m = lr_model.coef_\n",
    "c = lr_model.intercept_"
   ]
  },
  {
   "cell_type": "code",
   "execution_count": 27,
   "id": "4609da7c",
   "metadata": {},
   "outputs": [
    {
     "data": {
      "text/plain": [
       "array([[193.30522131]])"
      ]
     },
     "execution_count": 27,
     "metadata": {},
     "output_type": "execute_result"
    }
   ],
   "source": [
    "# so apply to formula y = mx + c\n",
    "y = m * 70.12 + c\n",
    "y"
   ]
  },
  {
   "cell_type": "code",
   "execution_count": 28,
   "id": "5a4b9ba2",
   "metadata": {},
   "outputs": [],
   "source": [
    "# Create a copy of the DataFrame with changed column names\n",
    "df_copy = df.rename(columns={'Weight': 'Actual Weight'})"
   ]
  },
  {
   "cell_type": "code",
   "execution_count": 29,
   "id": "f42c6001",
   "metadata": {},
   "outputs": [
    {
     "data": {
      "text/html": [
       "<div>\n",
       "<style scoped>\n",
       "    .dataframe tbody tr th:only-of-type {\n",
       "        vertical-align: middle;\n",
       "    }\n",
       "\n",
       "    .dataframe tbody tr th {\n",
       "        vertical-align: top;\n",
       "    }\n",
       "\n",
       "    .dataframe thead th {\n",
       "        text-align: right;\n",
       "    }\n",
       "</style>\n",
       "<table border=\"1\" class=\"dataframe\">\n",
       "  <thead>\n",
       "    <tr style=\"text-align: right;\">\n",
       "      <th></th>\n",
       "      <th>Height</th>\n",
       "      <th>Actual Weight</th>\n",
       "      <th>Predicted Weight</th>\n",
       "    </tr>\n",
       "  </thead>\n",
       "  <tbody>\n",
       "    <tr>\n",
       "      <th>0</th>\n",
       "      <td>73.847017</td>\n",
       "      <td>241.893563</td>\n",
       "      <td>215.526923</td>\n",
       "    </tr>\n",
       "    <tr>\n",
       "      <th>1</th>\n",
       "      <td>68.781904</td>\n",
       "      <td>162.310473</td>\n",
       "      <td>185.327053</td>\n",
       "    </tr>\n",
       "    <tr>\n",
       "      <th>2</th>\n",
       "      <td>74.110105</td>\n",
       "      <td>212.740856</td>\n",
       "      <td>217.095543</td>\n",
       "    </tr>\n",
       "    <tr>\n",
       "      <th>3</th>\n",
       "      <td>71.730978</td>\n",
       "      <td>220.042470</td>\n",
       "      <td>202.910405</td>\n",
       "    </tr>\n",
       "    <tr>\n",
       "      <th>4</th>\n",
       "      <td>69.881796</td>\n",
       "      <td>206.349801</td>\n",
       "      <td>191.884970</td>\n",
       "    </tr>\n",
       "    <tr>\n",
       "      <th>...</th>\n",
       "      <td>...</td>\n",
       "      <td>...</td>\n",
       "      <td>...</td>\n",
       "    </tr>\n",
       "    <tr>\n",
       "      <th>3496</th>\n",
       "      <td>69.296830</td>\n",
       "      <td>185.649086</td>\n",
       "      <td>188.397211</td>\n",
       "    </tr>\n",
       "    <tr>\n",
       "      <th>3497</th>\n",
       "      <td>70.542201</td>\n",
       "      <td>210.198845</td>\n",
       "      <td>195.822525</td>\n",
       "    </tr>\n",
       "    <tr>\n",
       "      <th>3498</th>\n",
       "      <td>73.912549</td>\n",
       "      <td>202.429960</td>\n",
       "      <td>215.917648</td>\n",
       "    </tr>\n",
       "    <tr>\n",
       "      <th>3499</th>\n",
       "      <td>67.396021</td>\n",
       "      <td>144.277671</td>\n",
       "      <td>177.063961</td>\n",
       "    </tr>\n",
       "    <tr>\n",
       "      <th>3500</th>\n",
       "      <td>72.738970</td>\n",
       "      <td>187.222909</td>\n",
       "      <td>208.920382</td>\n",
       "    </tr>\n",
       "  </tbody>\n",
       "</table>\n",
       "<p>3501 rows × 3 columns</p>\n",
       "</div>"
      ],
      "text/plain": [
       "         Height  Actual Weight  Predicted Weight\n",
       "0     73.847017     241.893563        215.526923\n",
       "1     68.781904     162.310473        185.327053\n",
       "2     74.110105     212.740856        217.095543\n",
       "3     71.730978     220.042470        202.910405\n",
       "4     69.881796     206.349801        191.884970\n",
       "...         ...            ...               ...\n",
       "3496  69.296830     185.649086        188.397211\n",
       "3497  70.542201     210.198845        195.822525\n",
       "3498  73.912549     202.429960        215.917648\n",
       "3499  67.396021     144.277671        177.063961\n",
       "3500  72.738970     187.222909        208.920382\n",
       "\n",
       "[3501 rows x 3 columns]"
      ]
     },
     "execution_count": 29,
     "metadata": {},
     "output_type": "execute_result"
    }
   ],
   "source": [
    "df_copy['Predicted Weight'] = lr_model.predict(df[['Height']])\n",
    "df_copy"
   ]
  },
  {
   "cell_type": "markdown",
   "id": "abf3d176",
   "metadata": {},
   "source": [
    "# Draw the best fit line"
   ]
  },
  {
   "cell_type": "code",
   "execution_count": 30,
   "id": "07a81ec2",
   "metadata": {},
   "outputs": [
    {
     "data": {
      "text/plain": [
       "Text(0.5, 1.0, 'Height vs. Weight from the Training Dataset')"
      ]
     },
     "execution_count": 30,
     "metadata": {},
     "output_type": "execute_result"
    },
    {
     "data": {
      "image/png": "[encoded data removed]",
      "text/plain": [
       "<Figure size 640x480 with 1 Axes>"
      ]
     },
     "metadata": {},
     "output_type": "display_data"
    }
   ],
   "source": [
    "# Best fit line for training dataset\n",
    "plt.scatter(df['Height'], df['Weight'], color='green', marker='+')\n",
    "plt.plot(height_train, lr_model.predict(height_train), color='red')\n",
    "plt.xlabel('Height (inches)')\n",
    "plt.ylabel('Weight (pounds)')\n",
    "plt.title('Height vs. Weight from the Training Dataset')"
   ]
  },
  {
   "cell_type": "code",
   "execution_count": 31,
   "id": "cfcf60ed",
   "metadata": {},
   "outputs": [
    {
     "data": {
      "text/plain": [
       "Text(0.5, 1.0, 'Height vs. Weight from the Test Dataset')"
      ]
     },
     "execution_count": 31,
     "metadata": {},
     "output_type": "execute_result"
    },
    {
     "data": {
      "image/png": "[encoded data removed]",
      "text/plain": [
       "<Figure size 640x480 with 1 Axes>"
      ]
     },
     "metadata": {},
     "output_type": "display_data"
    }
   ],
   "source": [
    "# Best fit line for testing dataset\n",
    "plt.scatter(df['Height'], df['Weight'], color='green', marker='+')\n",
    "plt.plot(height_test, lr_model.predict(height_test), color='red')\n",
    "plt.xlabel('Height (inches)')\n",
    "plt.ylabel('Weight (pounds)')\n",
    "plt.title('Height vs. Weight from the Test Dataset')"
   ]
  },
  {
   "cell_type": "markdown",
   "id": "81fb8142",
   "metadata": {},
   "source": [
    "To calculate Mean Squared Error (MSE) and Mean Absolute Error (MAE) for evaluating the performance of a regression model"
   ]
  },
  {
   "cell_type": "markdown",
   "id": "61e54526",
   "metadata": {},
   "source": [
    "#### Mean Squared Error (MSE) and Mean Absolute Error (MAE) for Training part"
   ]
  },
  {
   "cell_type": "code",
   "execution_count": 32,
   "id": "dac7e5ad",
   "metadata": {},
   "outputs": [
    {
     "name": "stdout",
     "output_type": "stream",
     "text": [
      "Mean Squared Error (MSE): 108.20615780522523\n",
      "Mean Absolute Error (MAE): 8.076328825385255\n"
     ]
    }
   ],
   "source": [
    "from sklearn.metrics import mean_squared_error, mean_absolute_error\n",
    "\n",
    "\n",
    "# Calculate Mean Squared Error (MSE)\n",
    "mse = mean_squared_error(weight_train, lr_model.predict(height_train))\n",
    "\n",
    "# Calculate Mean Absolute Error (MAE)\n",
    "mae = mean_absolute_error(weight_train, lr_model.predict(height_train))\n",
    "\n",
    "# Print the calculated MSE and MAE values\n",
    "print(\"Mean Squared Error (MSE):\", mse)\n",
    "print(\"Mean Absolute Error (MAE):\", mae)"
   ]
  },
  {
   "cell_type": "markdown",
   "id": "1397aa01",
   "metadata": {},
   "source": [
    "#### Mean Squared Error (MSE) and Mean Absolute Error (MAE) for Testing part"
   ]
  },
  {
   "cell_type": "code",
   "execution_count": 33,
   "id": "eb49b20c",
   "metadata": {},
   "outputs": [
    {
     "name": "stdout",
     "output_type": "stream",
     "text": [
      "Mean Squared Error (MSE): 97.2175051329933\n",
      "Mean Absolute Error (MAE): 8.040126312816263\n"
     ]
    }
   ],
   "source": [
    "# Calculate Mean Squared Error (MSE)\n",
    "mse = mean_squared_error(weight_test, lr_model.predict(height_test))\n",
    "\n",
    "# Calculate Mean Absolute Error (MAE)\n",
    "mae = mean_absolute_error(weight_test, lr_model.predict(height_test))\n",
    "\n",
    "# Print the calculated MSE and MAE values\n",
    "print(\"Mean Squared Error (MSE):\", mse)\n",
    "print(\"Mean Absolute Error (MAE):\", mae)"
   ]
  },
  {
   "cell_type": "code",
   "execution_count": null,
   "id": "614f60a1",
   "metadata": {},
   "outputs": [],
   "source": []
  }
 ],
 "metadata": {
  "kernelspec": {
   "display_name": "Python 3 (ipykernel)",
   "language": "python",
   "name": "python3"
  },
  "language_info": {
   "codemirror_mode": {
    "name": "ipython",
    "version": 3
   },
   "file_extension": ".py",
   "mimetype": "text/x-python",
   "name": "python",
   "nbconvert_exporter": "python",
   "pygments_lexer": "ipython3",
   "version": "3.9.13"
  }
 },
 "nbformat": 4,
 "nbformat_minor": 5
}
